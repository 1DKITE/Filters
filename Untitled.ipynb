{
 "cells": [
  {
   "cell_type": "code",
   "execution_count": 7,
   "id": "71f021bd",
   "metadata": {},
   "outputs": [],
   "source": [
    "import numpy as np\n",
    "array = [1 ,3, 5, 7, 9, 11, 13, 15]\n",
    "\n",
    "def AvgFilter(x, p):\n",
    "    k = len(x)\n",
    "    alpha = (k-1) / k\n",
    "    avg = alpha*p + (1-alpha)*np.mean(x)\n",
    "    preavg = avg\n",
    "    k = k+1"
   ]
  },
  {
   "cell_type": "code",
   "execution_count": 8,
   "id": "50c0bf9f",
   "metadata": {},
   "outputs": [
    {
     "ename": "SyntaxError",
     "evalue": "invalid syntax (3605192221.py, line 2)",
     "output_type": "error",
     "traceback": [
      "\u001b[1;36m  Cell \u001b[1;32mIn[8], line 2\u001b[1;36m\u001b[0m\n\u001b[1;33m    t = 0:dt:10\u001b[0m\n\u001b[1;37m         ^\u001b[0m\n\u001b[1;31mSyntaxError\u001b[0m\u001b[1;31m:\u001b[0m invalid syntax\n"
     ]
    }
   ],
   "source": [
    "dt= 0.2\n",
    "t = 0:dt:10"
   ]
  }
 ],
 "metadata": {
  "kernelspec": {
   "display_name": "Python 3 (ipykernel)",
   "language": "python",
   "name": "python3"
  },
  "language_info": {
   "codemirror_mode": {
    "name": "ipython",
    "version": 3
   },
   "file_extension": ".py",
   "mimetype": "text/x-python",
   "name": "python",
   "nbconvert_exporter": "python",
   "pygments_lexer": "ipython3",
   "version": "3.10.9"
  }
 },
 "nbformat": 4,
 "nbformat_minor": 5
}
